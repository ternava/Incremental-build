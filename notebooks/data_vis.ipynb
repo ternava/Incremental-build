{
 "cells": [
  {
   "cell_type": "code",
   "execution_count": 2,
   "source": [
    "import pandas as pd\n",
    "import numpy as np\n",
    "import matplotlib.pyplot as plt\n",
    "\n",
    "#df = pd.read_csv('/home/xternava/Documents/GitHub/Incremental-build/data/buildtime_s1.csv')\n",
    "df = pd.read_csv('/src/data/buildtime_dc1.csv')\n",
    "\n",
    "rez = df.sort_values(by=['BinarySize', 'bt_real'], ascending=False)\n",
    "\n",
    "print(rez)"
   ],
   "outputs": [
    {
     "output_type": "stream",
     "name": "stdout",
     "text": [
      "                           Branch  \\\n",
      "4       sqlite-disable-threadsafe   \n",
      "9             sqlite-disable-math   \n",
      "8   sqlite-disable-load-extension   \n",
      "6         sqlite-disable-readline   \n",
      "2     sqlite-disable-libtool-lock   \n",
      "0                  sqlite-minimal   \n",
      "3        sqlite-disable-largefile   \n",
      "1  sqlite-disable-option-checking   \n",
      "5              sqlite-disable-tcl   \n",
      "7     sqlite-disable-amalgamation   \n",
      "\n",
      "                                              Option  bt_real  bt_user  \\\n",
      "4                               --disable-threadsafe  36.4632   0.0000   \n",
      "9                                     --disable-math  37.7847   0.0000   \n",
      "8                           --disable-load-extension  35.5774   0.0006   \n",
      "6                                 --disable-readline  37.9252   0.0006   \n",
      "2                             --disable-libtool-lock  36.7235   0.0006   \n",
      "0  ['--disable-option-checking', '--disable-libto...  36.4902   0.0006   \n",
      "3                                --disable-largefile  36.3021   0.0007   \n",
      "1                          --disable-option-checking  36.2104   0.0006   \n",
      "5                                      --disable-tcl  36.0401   0.0006   \n",
      "7                             --disable-amalgamation  35.1142   0.0000   \n",
      "\n",
      "   bt_sys  BinarySize  \n",
      "4  0.0010     8604832  \n",
      "9  0.0010     8559232  \n",
      "8  0.0001     8557792  \n",
      "6  0.0002     8529168  \n",
      "2  0.0001     8526552  \n",
      "0  0.0001     8526552  \n",
      "3  0.0000     8526552  \n",
      "1  0.0002     8526552  \n",
      "5  0.0001     8526552  \n",
      "7  0.0008     8526552  \n"
     ]
    }
   ],
   "metadata": {}
  }
 ],
 "metadata": {
  "orig_nbformat": 4,
  "language_info": {
   "name": "python",
   "version": "3.9.6",
   "mimetype": "text/x-python",
   "codemirror_mode": {
    "name": "ipython",
    "version": 3
   },
   "pygments_lexer": "ipython3",
   "nbconvert_exporter": "python",
   "file_extension": ".py"
  },
  "kernelspec": {
   "name": "python3",
   "display_name": "Python 3.9.6 64-bit"
  },
  "interpreter": {
   "hash": "e7370f93d1d0cde622a1f8e1c04877d8463912d04d973331ad4851f04de6915a"
  }
 },
 "nbformat": 4,
 "nbformat_minor": 2
}