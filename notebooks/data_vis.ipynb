{
 "cells": [
  {
   "cell_type": "code",
   "execution_count": 1,
   "source": [
    "import pandas as pd\n",
    "import numpy as np\n",
    "import matplotlib.pyplot as plt\n",
    "\n",
    "#df = pd.read_csv('/home/xternava/Documents/GitHub/Incremental-build/data/buildtime_s1.csv')\n",
    "df = pd.read_csv('/src/data/buildtime_dc1.csv')\n",
    "\n",
    "rez = df.sort_values(by=['BinarySize', 'bt_real'], ascending=False)\n",
    "\n",
    "print(rez)"
   ],
   "outputs": [
    {
     "output_type": "stream",
     "name": "stdout",
     "text": [
      "                        Branch  \\\n",
      "8             x264-bit-depth=8   \n",
      "1             x264-disable-asm   \n",
      "9       x264-chroma-format=400   \n",
      "3          x264-disable-opencl   \n",
      "7      x264-disable-interlaced   \n",
      "5          x264-disable-thread   \n",
      "0                 x264-minimal   \n",
      "2  x264-disable-bashcompletion   \n",
      "4             x264-disable-gpl   \n",
      "6     x264-disable-win32thread   \n",
      "\n",
      "                                              Option  bt_real  bt_user  \\\n",
      "8                                      --bit-depth=8   2.0838   0.0000   \n",
      "1                                      --disable-asm  21.1919   0.0000   \n",
      "9                                --chroma-format=400   1.5353   0.0001   \n",
      "3                                   --disable-opencl   1.5723   0.0000   \n",
      "7                               --disable-interlaced   1.4578   0.0005   \n",
      "5                                   --disable-thread   1.5767   0.0000   \n",
      "0  ['--disable-asm', '--disable-bashcompletion', ...   1.5841   0.0006   \n",
      "2                           --disable-bashcompletion   1.4805   0.0005   \n",
      "4                                      --disable-gpl   1.4702   0.0005   \n",
      "6                              --disable-win32thread   1.4138   0.0000   \n",
      "\n",
      "   bt_sys  BinarySize  \n",
      "8  0.0009     2060280  \n",
      "1  0.0010     1775936  \n",
      "9  0.0012     1554408  \n",
      "3  0.0012     1529600  \n",
      "7  0.0006     1446656  \n",
      "5  0.0011     1431944  \n",
      "0  0.0005     1426184  \n",
      "2  0.0004     1426184  \n",
      "4  0.0004     1426184  \n",
      "6  0.0010     1426184  \n"
     ]
    }
   ],
   "metadata": {}
  },
  {
   "cell_type": "code",
   "execution_count": 3,
   "source": [
    "import pandas as pd\n",
    "import numpy as np\n",
    "import matplotlib.pyplot as plt\n",
    "\n",
    "#df = pd.read_csv('/home/xternava/Documents/GitHub/Incremental-build/data/buildtime_s2.csv')\n",
    "df = pd.read_csv('/src/data/buildtime_dc2.csv')\n",
    "\n",
    "rez = df.sort_values(by=['BinarySize', 'bt_real'], ascending=False)\n",
    "\n",
    "print(rez)"
   ],
   "outputs": [
    {
     "output_type": "stream",
     "name": "stdout",
     "text": [
      "        Branch                                             Option  bt_real  \\\n",
      "0   x264-00016  ['--disable-thread', '--disable-interlaced', '...  74.3428   \n",
      "3   x264-00019  ['--disable-gpl', '--disable-thread', '--disab...  65.7389   \n",
      "8   x264-00018  ['--disable-gpl', '--disable-win32thread', '--...  71.7876   \n",
      "12  x264-00002  ['--disable-gpl', '--disable-interlaced', '--b...  68.1472   \n",
      "2   x264-00014  ['--disable-asm', '--disable-opencl', '--disab...  39.0781   \n",
      "4   x264-00004  ['--disable-asm', '--disable-opencl', '--disab...  33.8179   \n",
      "6   x264-00015  ['--disable-asm', '--disable-opencl', '--disab...  31.2194   \n",
      "10  x264-00009  ['--disable-win32thread', '--bit-depth=8', '--...  37.9321   \n",
      "19  x264-00011  ['--disable-interlaced', '--bit-depth=8', '--c...  24.2177   \n",
      "17  x264-00006  ['--disable-win32thread', '--disable-interlace...  36.3968   \n",
      "16  x264-00001  ['--bit-depth=10', '--chroma-format=422', '--d...  33.0160   \n",
      "1   x264-00005  ['--disable-win32thread', '--bit-depth=10', '-...  29.6024   \n",
      "5   x264-00010  ['--disable-opencl', '--disable-thread', '--di...  32.4772   \n",
      "13  x264-00007  ['--disable-asm', '--disable-gpl', '--disable-...  25.4521   \n",
      "18  x264-00003  ['--disable-asm', '--disable-opencl', '--disab...   4.3363   \n",
      "15  x264-00013  ['--disable-asm', '--disable-gpl', '--disable-...   1.7681   \n",
      "11  x264-00008  ['--disable-asm', '--disable-opencl', '--disab...  16.4750   \n",
      "7   x264-00017  ['--disable-asm', '--disable-opencl', '--disab...  17.3593   \n",
      "9   x264-00012  ['--disable-asm', '--disable-opencl', '--disab...   4.3326   \n",
      "14  x264-00020  ['--disable-asm', '--disable-opencl', '--disab...   1.8250   \n",
      "\n",
      "    bt_user  bt_sys  BinarySize  \n",
      "0    0.0009  0.0000     3036872  \n",
      "3    0.0000  0.0012     2887752  \n",
      "8    0.0004  0.0004     2845592  \n",
      "12   0.0001  0.0011     2841120  \n",
      "2    0.0000  0.0009     2343152  \n",
      "4    0.0000  0.0011     2175400  \n",
      "6    0.0000  0.0016     2140784  \n",
      "10   0.0000  0.0009     1938976  \n",
      "19   0.0000  0.0010     1914368  \n",
      "17   0.0007  0.0007     1914016  \n",
      "16   0.0010  0.0000     1763616  \n",
      "1    0.0000  0.0010     1730208  \n",
      "5    0.0000  0.0008     1725056  \n",
      "13   0.0000  0.0010     1700456  \n",
      "18   0.0000  0.0010     1564256  \n",
      "15   0.0000  0.0009     1529600  \n",
      "11   0.0011  0.0001     1488568  \n",
      "7    0.0008  0.0008     1475760  \n",
      "9    0.0000  0.0011     1431944  \n",
      "14   0.0001  0.0011     1431944  \n"
     ]
    }
   ],
   "metadata": {}
  }
 ],
 "metadata": {
  "orig_nbformat": 4,
  "language_info": {
   "name": "python",
   "version": "3.9.6",
   "mimetype": "text/x-python",
   "codemirror_mode": {
    "name": "ipython",
    "version": 3
   },
   "pygments_lexer": "ipython3",
   "nbconvert_exporter": "python",
   "file_extension": ".py"
  },
  "kernelspec": {
   "name": "python3",
   "display_name": "Python 3.9.6 64-bit"
  },
  "interpreter": {
   "hash": "767d51c1340bd893661ea55ea3124f6de3c7a262a8b4abca0554b478b1e2ff90"
  }
 },
 "nbformat": 4,
 "nbformat_minor": 2
}