{
 "cells": [
  {
   "cell_type": "markdown",
   "source": [
    "# Make clean build time"
   ],
   "metadata": {}
  },
  {
   "cell_type": "code",
   "execution_count": 1,
   "source": [
    "import pandas as pd\n",
    "import numpy as np"
   ],
   "outputs": [],
   "metadata": {}
  },
  {
   "cell_type": "code",
   "execution_count": 2,
   "source": [
    "# Will show the clean build time and the executable's binary size for all system's configurations\n",
    "path = '/home/xternava/Documents/GitHub/Incremental-build/data/'\n",
    "#path = '/src/data/'\n",
    "df = pd.read_csv(path + 'buildtime_dc2.csv')\n",
    "df.columns\n",
    "df = df.rename(columns = {\"bt_real\": \"Build Time\", \"BinarySize\": \"Binary Size\"})\n",
    "df"
   ],
   "outputs": [
    {
     "output_type": "execute_result",
     "data": {
      "text/plain": [
       "        Branch                                             Option  Build Time  \\\n",
       "0  xterm-00004  ['--disable-ansi-color', '--disable-direct-col...     11.5049   \n",
       "1  xterm-00001  ['--disable-ansi-color', '--disable-256-color'...      8.7354   \n",
       "2  xterm-00003  ['--disable-ansi-color', '--disable-direct-col...     12.0346   \n",
       "3  xterm-00002  ['--disable-ansi-color', '--disable-direct-col...      8.3705   \n",
       "\n",
       "   bt_user  bt_sys  Binary Size  \n",
       "0   0.0000  0.0009      3344192  \n",
       "1   0.0000  0.0009      2736104  \n",
       "2   0.0000  0.0009      3202648  \n",
       "3   0.0009  0.0000      2468184  "
      ],
      "text/html": [
       "<div>\n",
       "<style scoped>\n",
       "    .dataframe tbody tr th:only-of-type {\n",
       "        vertical-align: middle;\n",
       "    }\n",
       "\n",
       "    .dataframe tbody tr th {\n",
       "        vertical-align: top;\n",
       "    }\n",
       "\n",
       "    .dataframe thead th {\n",
       "        text-align: right;\n",
       "    }\n",
       "</style>\n",
       "<table border=\"1\" class=\"dataframe\">\n",
       "  <thead>\n",
       "    <tr style=\"text-align: right;\">\n",
       "      <th></th>\n",
       "      <th>Branch</th>\n",
       "      <th>Option</th>\n",
       "      <th>Build Time</th>\n",
       "      <th>bt_user</th>\n",
       "      <th>bt_sys</th>\n",
       "      <th>Binary Size</th>\n",
       "    </tr>\n",
       "  </thead>\n",
       "  <tbody>\n",
       "    <tr>\n",
       "      <th>0</th>\n",
       "      <td>xterm-00004</td>\n",
       "      <td>['--disable-ansi-color', '--disable-direct-col...</td>\n",
       "      <td>11.5049</td>\n",
       "      <td>0.0000</td>\n",
       "      <td>0.0009</td>\n",
       "      <td>3344192</td>\n",
       "    </tr>\n",
       "    <tr>\n",
       "      <th>1</th>\n",
       "      <td>xterm-00001</td>\n",
       "      <td>['--disable-ansi-color', '--disable-256-color'...</td>\n",
       "      <td>8.7354</td>\n",
       "      <td>0.0000</td>\n",
       "      <td>0.0009</td>\n",
       "      <td>2736104</td>\n",
       "    </tr>\n",
       "    <tr>\n",
       "      <th>2</th>\n",
       "      <td>xterm-00003</td>\n",
       "      <td>['--disable-ansi-color', '--disable-direct-col...</td>\n",
       "      <td>12.0346</td>\n",
       "      <td>0.0000</td>\n",
       "      <td>0.0009</td>\n",
       "      <td>3202648</td>\n",
       "    </tr>\n",
       "    <tr>\n",
       "      <th>3</th>\n",
       "      <td>xterm-00002</td>\n",
       "      <td>['--disable-ansi-color', '--disable-direct-col...</td>\n",
       "      <td>8.3705</td>\n",
       "      <td>0.0009</td>\n",
       "      <td>0.0000</td>\n",
       "      <td>2468184</td>\n",
       "    </tr>\n",
       "  </tbody>\n",
       "</table>\n",
       "</div>"
      ]
     },
     "metadata": {},
     "execution_count": 2
    }
   ],
   "metadata": {}
  },
  {
   "cell_type": "code",
   "execution_count": 3,
   "source": [
    "df[['Br0', 'BranchC']] = df.Branch.str.split(\"-\",expand=True)\n",
    "\n",
    "df_setindex = df.set_index(\"BranchC\")\n",
    "df = df_setindex[['Build Time', 'Binary Size']]\n",
    "\n",
    "# The index is reset to the clean build configuration\n",
    "dx = df.sort_index()\n",
    "dx.to_csv(path + 'clean-bt.csv')\n",
    "dx"
   ],
   "outputs": [
    {
     "output_type": "execute_result",
     "data": {
      "text/plain": [
       "         Build Time  Binary Size\n",
       "BranchC                         \n",
       "00001        8.7354      2736104\n",
       "00002        8.3705      2468184\n",
       "00003       12.0346      3202648\n",
       "00004       11.5049      3344192"
      ],
      "text/html": [
       "<div>\n",
       "<style scoped>\n",
       "    .dataframe tbody tr th:only-of-type {\n",
       "        vertical-align: middle;\n",
       "    }\n",
       "\n",
       "    .dataframe tbody tr th {\n",
       "        vertical-align: top;\n",
       "    }\n",
       "\n",
       "    .dataframe thead th {\n",
       "        text-align: right;\n",
       "    }\n",
       "</style>\n",
       "<table border=\"1\" class=\"dataframe\">\n",
       "  <thead>\n",
       "    <tr style=\"text-align: right;\">\n",
       "      <th></th>\n",
       "      <th>Build Time</th>\n",
       "      <th>Binary Size</th>\n",
       "    </tr>\n",
       "    <tr>\n",
       "      <th>BranchC</th>\n",
       "      <th></th>\n",
       "      <th></th>\n",
       "    </tr>\n",
       "  </thead>\n",
       "  <tbody>\n",
       "    <tr>\n",
       "      <th>00001</th>\n",
       "      <td>8.7354</td>\n",
       "      <td>2736104</td>\n",
       "    </tr>\n",
       "    <tr>\n",
       "      <th>00002</th>\n",
       "      <td>8.3705</td>\n",
       "      <td>2468184</td>\n",
       "    </tr>\n",
       "    <tr>\n",
       "      <th>00003</th>\n",
       "      <td>12.0346</td>\n",
       "      <td>3202648</td>\n",
       "    </tr>\n",
       "    <tr>\n",
       "      <th>00004</th>\n",
       "      <td>11.5049</td>\n",
       "      <td>3344192</td>\n",
       "    </tr>\n",
       "  </tbody>\n",
       "</table>\n",
       "</div>"
      ]
     },
     "metadata": {},
     "execution_count": 3
    }
   ],
   "metadata": {}
  }
 ],
 "metadata": {
  "orig_nbformat": 4,
  "language_info": {
   "name": "python",
   "version": "3.9.6",
   "mimetype": "text/x-python",
   "codemirror_mode": {
    "name": "ipython",
    "version": 3
   },
   "pygments_lexer": "ipython3",
   "nbconvert_exporter": "python",
   "file_extension": ".py"
  },
  "kernelspec": {
   "name": "python3",
   "display_name": "Python 3.9.6 64-bit"
  },
  "interpreter": {
   "hash": "e7370f93d1d0cde622a1f8e1c04877d8463912d04d973331ad4851f04de6915a"
  }
 },
 "nbformat": 4,
 "nbformat_minor": 2
}