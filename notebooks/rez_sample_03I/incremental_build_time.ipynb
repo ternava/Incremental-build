{
 "cells": [
  {
   "cell_type": "markdown",
   "source": [
    "# Incremental build time\n",
    "\n",
    "RQ1: Does incremental build time outperform the clean build time of a system?"
   ],
   "metadata": {}
  },
  {
   "cell_type": "code",
   "execution_count": null,
   "source": [
    "import pandas as pd\n",
    "import numpy as np"
   ],
   "outputs": [],
   "metadata": {}
  },
  {
   "cell_type": "code",
   "execution_count": null,
   "source": [
    "# Will show the incremental build time and the executable's binary size for all system's configurations\n",
    "path = '/home/xternava/Documents/GitHub/Incremental-build/data/rez_sample_03II/'\n",
    "#path = '/src/data/'\n",
    "df = pd.read_csv(path + 'buildtime_di1.csv')\n",
    "df.columns\n",
    "df = df.rename(columns = {\"bt_real\": \"Build Time\", \"BinarySize\": \"Binary Size\"})\n",
    "df"
   ],
   "outputs": [],
   "metadata": {}
  },
  {
   "cell_type": "code",
   "execution_count": null,
   "source": [
    "# For further analyses, the branch names are extracted into separate columns\n",
    "df[['Br0', 'Br1','Br2']] = df.Branch.str.split(\"-\",expand=True)\n",
    "df_setindex = df.set_index(\"Br2\")\n",
    "\n",
    "df = df.rename(columns = {\"bt_real\": \"Build Time\", \"BinarySize\": \"Binary Size\"})\n",
    "\n",
    "# The index is reset to incremental build configuration\n",
    "dx = df.sort_index()\n",
    "dx"
   ],
   "outputs": [],
   "metadata": {}
  },
  {
   "cell_type": "code",
   "execution_count": null,
   "source": [
    "# A detailed view of each incremental build time after clean build configurations\n",
    "# Columns: clean build\n",
    "# Rows: Incremental build\n",
    "opt2 = df.pivot_table(index = [\"Br2\", \"Br1\"],\n",
    "                    values=[\"Build Time\"])\n",
    "opt3 = opt2.unstack()\n",
    "opt3"
   ],
   "outputs": [],
   "metadata": {}
  },
  {
   "cell_type": "code",
   "execution_count": null,
   "source": [
    "# The order or configurations that provide the minimum incremental build time.\n",
    "\n",
    "opt3['MIN'] = opt3.apply( lambda x: opt3.columns[x == x.min()][0], axis=1)\n",
    "opt3 = opt3[['MIN']]\n",
    "opt3"
   ],
   "outputs": [],
   "metadata": {}
  },
  {
   "cell_type": "code",
   "execution_count": null,
   "source": [
    "# A detailed view of each executable's binary size after incremebtal build configurations\n",
    "# Columns: clean build\n",
    "# Rows: Incremental build\n",
    "opt2 = df.pivot_table(index = [\"Br2\", \"Br1\"],\n",
    "                    values=[\"Binary Size\"])\n",
    "opt2.unstack()"
   ],
   "outputs": [],
   "metadata": {}
  },
  {
   "cell_type": "code",
   "execution_count": null,
   "source": [
    "# The minimum, maximum, and average incremental build time for each system's configuration\n",
    "ib_results = df.pivot_table(index = [\"Br2\"], \n",
    "                    values=[\"Build Time\"], # values=[\"Build Time\", \"Binary Size\"],\n",
    "                    aggfunc=['max', 'mean', 'min'],\n",
    "                    margins=True,\n",
    "                    margins_name=\"Total\")\n",
    "\n",
    "ib_results[:-1].to_csv(path + 'incremental-bt.csv', \n",
    "                index=True, \n",
    "                header=['max', 'mean', 'min'])\n",
    "ib_results"
   ],
   "outputs": [],
   "metadata": {}
  },
  {
   "cell_type": "code",
   "execution_count": null,
   "source": [
    "sorted_min_ib = ib_results.reindex(ib_results['min'].sort_values(by=\"Build Time\", ascending=False).index)\n",
    "sorted_min_ib"
   ],
   "outputs": [],
   "metadata": {}
  },
  {
   "cell_type": "code",
   "execution_count": null,
   "source": [
    "# Visualized the minimum, maxium, and average incremental build time for all configurations\n",
    "import matplotlib.pyplot as plt\n",
    "\n",
    "ib_plot = sorted_min_ib.iloc[:-1].plot(kind='bar')\n",
    "\n",
    "ib_plot.set_xlabel(\"Configurations\")\n",
    "ib_plot.set_ylabel(\"incremental build time [s]\")\n",
    "\n",
    "#ib_plot.tight_layout(pad=1.0)\n",
    "plt.savefig(\"./figures/fig01.pdf\", bbox_inches = 'tight', pad_inches = 0)\n",
    "\n",
    "ib_plot"
   ],
   "outputs": [],
   "metadata": {}
  },
  {
   "cell_type": "code",
   "execution_count": null,
   "source": [
    "# The minimum, average, and maximum incremental build time summaried for all configurations\n",
    "import matplotlib.pyplot as plt\n",
    " \n",
    "all_data1 = ib_results['min']\n",
    "labels1 = 'Minimum'\n",
    "all_data2 = ib_results['mean']\n",
    "labels2 = 'Average'\n",
    "all_data3 = ib_results['max']\n",
    "labels3 = 'Maximum'\n",
    "     \n",
    "plt.rc('font', size=10) \n",
    "\n",
    "fig, (ax1, ax2, ax3) = plt.subplots(nrows=1, ncols=3, figsize=(5, 3))\n",
    "\n",
    "ax1.violinplot(all_data1)\n",
    "ax1.set_xlabel(labels1)\n",
    "ax1.set_ylabel(\"incremental build time [s]\")\n",
    "                    \n",
    "ax2.violinplot(all_data2)\n",
    "ax2.set_xlabel(labels2)\n",
    "\n",
    "ax3.violinplot(all_data3)\n",
    "ax3.set_xlabel(labels3)\n",
    "\n",
    "fig.tight_layout(pad=1.0)\n",
    "plt.savefig(\"./figures/fig02.pdf\", bbox_inches = 'tight', pad_inches = 0)\n",
    "\n",
    "plt.show()"
   ],
   "outputs": [],
   "metadata": {}
  },
  {
   "cell_type": "code",
   "execution_count": null,
   "source": [
    "# Converting the Pivot Table to Data Frame\n",
    "\n",
    "ptbl = df.pivot_table(index = [\"Br2\"],\n",
    "                    columns=\"Br1\",\n",
    "                    values=[\"Build Time\"])\n",
    "\n",
    "ptbl.columns = ptbl.columns.droplevel(level=0) #remove \"Build Time\"\n",
    "ptbl.columns.name = None                       #remove \"Br1\"\n",
    "rtbl = ptbl.reset_index() \n",
    "\n",
    "tbl = pd.DataFrame(data=rtbl)\n",
    "\n",
    "tbl = tbl.set_index(\"Br2\")\n",
    "\n",
    "pd.set_option(\"display.max_columns\", None)\n",
    "\n",
    "#tbl = df_setindex[['00001', '00002', '00003', '00004', '00005', '00006', '00007', \n",
    "#                '00008', '00009', '00010', '00011', '00012', '00013', '00014', \n",
    "#                '00015', '00016', '00017', '00018', '00019', '00020']]\n",
    "\n",
    "# Export it to a csv file, to use it in another notebook\n",
    "tbl[:].to_csv(path + 'i_data_frame.csv', \n",
    "                index=True, \n",
    "                header=['00001', '00002', '00003', '00004', '00005', '00006', '00007', \n",
    "                '00008', '00009', '00010', '00011', '00012', '00013', '00014', \n",
    "                '00015', '00016', '00017', '00018', '00019', '00020'])\n",
    "\n",
    "tbl"
   ],
   "outputs": [],
   "metadata": {}
  }
 ],
 "metadata": {
  "orig_nbformat": 4,
  "language_info": {
   "name": "python",
   "version": "3.9.6",
   "mimetype": "text/x-python",
   "codemirror_mode": {
    "name": "ipython",
    "version": 3
   },
   "pygments_lexer": "ipython3",
   "nbconvert_exporter": "python",
   "file_extension": ".py"
  },
  "kernelspec": {
   "name": "python3",
   "display_name": "Python 3.9.6 64-bit"
  },
  "interpreter": {
   "hash": "e7370f93d1d0cde622a1f8e1c04877d8463912d04d973331ad4851f04de6915a"
  }
 },
 "nbformat": 4,
 "nbformat_minor": 2
}