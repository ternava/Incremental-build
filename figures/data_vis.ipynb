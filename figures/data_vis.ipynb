{
 "cells": [
  {
   "cell_type": "code",
   "execution_count": 18,
   "source": [
    "import pandas as pd\n",
    "import numpy as np\n",
    "import matplotlib.pyplot as plt\n",
    "\n",
    "df = pd.read_csv('/home/xternava/Documents/GitHub/Incremental-build/data/buildtime_s1.csv')\n",
    "\n",
    "rez = df.sort_values(by=['BinarySize', 'bt_real'], ascending=False)\n",
    "\n",
    "print(rez)"
   ],
   "outputs": [
    {
     "output_type": "stream",
     "name": "stdout",
     "text": [
      "        Branch                                             Option  bt_real  \\\n",
      "0   x264-00016  ['--disable-thread', '--disable-interlaced', '...  35.7538   \n",
      "3   x264-00019  ['--disable-gpl', '--disable-thread', '--disab...  36.7160   \n",
      "8   x264-00018  ['--disable-gpl', '--disable-win32thread', '--...  35.5738   \n",
      "12  x264-00002  ['--disable-gpl', '--disable-interlaced', '--b...  35.3308   \n",
      "2   x264-00014  ['--disable-asm', '--disable-opencl', '--disab...   2.1749   \n",
      "4   x264-00004  ['--disable-asm', '--disable-opencl', '--disab...   1.9336   \n",
      "6   x264-00015  ['--disable-asm', '--disable-opencl', '--disab...   2.2342   \n",
      "10  x264-00009  ['--disable-win32thread', '--bit-depth=8', '--...  23.0128   \n",
      "19  x264-00011  ['--disable-interlaced', '--bit-depth=8', '--c...  22.3677   \n",
      "17  x264-00006  ['--disable-win32thread', '--disable-interlace...  20.5864   \n",
      "16  x264-00001  ['--bit-depth=10', '--chroma-format=422', '--d...  15.6683   \n",
      "1   x264-00005  ['--disable-win32thread', '--bit-depth=10', '-...  18.0667   \n",
      "5   x264-00010  ['--disable-opencl', '--disable-thread', '--di...  15.4644   \n",
      "13  x264-00007  ['--disable-asm', '--disable-gpl', '--disable-...   1.7069   \n",
      "18  x264-00003  ['--disable-asm', '--disable-opencl', '--disab...   1.5721   \n",
      "15  x264-00013  ['--disable-asm', '--disable-gpl', '--disable-...   1.5890   \n",
      "11  x264-00008  ['--disable-asm', '--disable-opencl', '--disab...   1.4076   \n",
      "7   x264-00017  ['--disable-asm', '--disable-opencl', '--disab...   1.4373   \n",
      "14  x264-00020  ['--disable-asm', '--disable-opencl', '--disab...   1.5372   \n",
      "9   x264-00012  ['--disable-asm', '--disable-opencl', '--disab...   1.5154   \n",
      "\n",
      "    bt_user  bt_sys  BinarySize  \n",
      "0    0.0009  0.0000     3036872  \n",
      "3    0.0003  0.0008     2887752  \n",
      "8    0.0000  0.0009     2845592  \n",
      "12   0.0000  0.0009     2841120  \n",
      "2    0.0000  0.0012     2343152  \n",
      "4    0.0000  0.0009     2175400  \n",
      "6    0.0000  0.0010     2140784  \n",
      "10   0.0000  0.0010     1938976  \n",
      "19   0.0009  0.0000     1914368  \n",
      "17   0.0001  0.0011     1914016  \n",
      "16   0.0000  0.0009     1763616  \n",
      "1    0.0001  0.0010     1730208  \n",
      "5    0.0000  0.0010     1725056  \n",
      "13   0.0000  0.0009     1700456  \n",
      "18   0.0000  0.0010     1564256  \n",
      "15   0.0000  0.0010     1529600  \n",
      "11   0.0002  0.0011     1488568  \n",
      "7    0.0005  0.0003     1475760  \n",
      "14   0.0000  0.0011     1431944  \n",
      "9    0.0000  0.0012     1431944  \n"
     ]
    }
   ],
   "metadata": {}
  },
  {
   "cell_type": "code",
   "execution_count": null,
   "source": [
    "import pandas as pd\n",
    "import numpy as np\n",
    "import matplotlib.pyplot as plt\n",
    "\n",
    "df = pd.read_csv('/home/xternava/Documents/GitHub/Incremental-build/data/buildtime_s2.csv')\n",
    "\n",
    "rez = df.sort_values(by=['BinarySize', 'bt_real'], ascending=False)\n",
    "\n",
    "print(rez)"
   ],
   "outputs": [],
   "metadata": {}
  }
 ],
 "metadata": {
  "orig_nbformat": 4,
  "language_info": {
   "name": "python",
   "version": "3.9.6",
   "mimetype": "text/x-python",
   "codemirror_mode": {
    "name": "ipython",
    "version": 3
   },
   "pygments_lexer": "ipython3",
   "nbconvert_exporter": "python",
   "file_extension": ".py"
  },
  "kernelspec": {
   "name": "python3",
   "display_name": "Python 3.9.6 64-bit"
  },
  "interpreter": {
   "hash": "767d51c1340bd893661ea55ea3124f6de3c7a262a8b4abca0554b478b1e2ff90"
  }
 },
 "nbformat": 4,
 "nbformat_minor": 2
}