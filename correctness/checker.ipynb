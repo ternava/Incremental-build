{
 "cells": [
  {
   "cell_type": "markdown",
   "id": "d04fa890",
   "metadata": {},
   "source": [
    "# Correctness checkings"
   ]
  },
  {
   "cell_type": "code",
   "execution_count": null,
   "id": "714c4713",
   "metadata": {},
   "outputs": [],
   "source": [
    "import os\n",
    "import sys\n",
    "import subprocess\n",
    "import pandas as pnd"
   ]
  },
  {
   "cell_type": "code",
   "execution_count": 2,
   "id": "2ce9e688",
   "metadata": {},
   "outputs": [],
   "source": [
    "FOLDER_CP=\"..\"\n",
    "DIFF_FILE=\"../.branch_diff\"\n",
    "RES_CMP=\"../RES.csv\""
   ]
  },
  {
   "cell_type": "markdown",
   "id": "3b2333b4",
   "metadata": {},
   "source": [
    "- `get_sym_set` takes as input an object file and returns all of its symbols as a set."
   ]
  },
  {
   "cell_type": "code",
   "execution_count": 3,
   "id": "e8cbf595",
   "metadata": {},
   "outputs": [],
   "source": [
    "def get_sym_set(obj):\n",
    "    if not os.path.isfile(obj):\n",
    "        print(obj, \"does not exist\")\n",
    "        return {}\n",
    "    cmd = \"nm {}\".format(obj) + \" | awk '{print $3}'\"\n",
    "    return\\\n",
    "        {sym for sym in subprocess\\\n",
    "         .check_output(cmd, shell=True)\\\n",
    "         .decode(\"utf-8\")\\\n",
    "         .split('\\n')\\\n",
    "         if sym}"
   ]
  },
  {
   "cell_type": "markdown",
   "id": "e4a5487c",
   "metadata": {},
   "source": [
    "- `cmp_sym` compares two sets of symbols and returns the difference (additions/substractions) as a dictionary"
   ]
  },
  {
   "cell_type": "code",
   "execution_count": 4,
   "id": "500d1552",
   "metadata": {},
   "outputs": [],
   "source": [
    "def cmp_sym(syms1, syms2, verbose=False):\n",
    "    res = {\"add\": [], \"sub\": []}\n",
    "    for s1 in syms1:\n",
    "        if s1 not in syms2:\n",
    "            res[\"sub\"].append(s1)\n",
    "            if verbose:\n",
    "                print(\"-\", s1)\n",
    "    for s2 in syms2:\n",
    "        if s2 not in syms1:\n",
    "            res[\"add\"].append(s1)\n",
    "            if verbose:\n",
    "                print(\"+\", s2)\n",
    "    if verbose:\n",
    "        if not res[\"add\"] and not res[\"sub\"]:\n",
    "            print(\"SAME SYMBOLS\")\n",
    "    return res"
   ]
  },
  {
   "cell_type": "markdown",
   "id": "a1633b07",
   "metadata": {},
   "source": [
    "- `bcmp` compares (size and symbols) the produced binary of a build of two branches of a git repository.\n",
    "    - `git_repo`: git repository\n",
    "    - `b1, b2`:   branches to compare\n",
    "    - `btc_name`: path to the produced binary\n",
    "    - `out_csv`:  the output file of the result"
   ]
  },
  {
   "cell_type": "code",
   "execution_count": 55,
   "id": "4614bf37",
   "metadata": {},
   "outputs": [],
   "source": [
    "def bcmp(git_repo, b1, b2, btc_name, out_csv):\n",
    "    os.chdir(git_repo)\n",
    "    os.system(\"git checkout {}\".format(b1))\n",
    "    has_binary = os.path.isfile(btc_name)\n",
    "    os.system(\"git checkout {}\".format(b2))\n",
    "    has_binary = has_binary and os.path.isfile(btc_name)\n",
    "    res_s = \"{},{},-\\n\".format(b1, b2)\n",
    "    if has_binary:\n",
    "        curr_file = btc_name\n",
    "        btc_name_without_path = btc_name.split('/')[-1]\n",
    "        other_file = \"../.{}\".format(btc_name_without_path)\n",
    "        os.system(\"git checkout {} && cp {} {}\".format(b2, btc_name, other_file))\n",
    "        os.system(\"git checkout {}\".format(b1))\n",
    "        cmp_res_dict = cmp_sym(get_sym_set(curr_file), get_sym_set(other_file))\n",
    "        curr_size, other_size = os.path.getsize(curr_file),\\\n",
    "                                    os.path.getsize(other_file)\n",
    "        val = not cmp_res_dict[\"add\"] and not cmp_res_dict[\"sub\"] and curr_size == other_size\n",
    "        os.system(\"rm -f {}\".format(other_file))\n",
    "        res_s = \"{},{},{}\\n\".format(b1, b2, val)\n",
    "    with open(out_csv, 'a') as out:\n",
    "        out.write(res_s)\n",
    "    os.chdir(\"..\")"
   ]
  },
  {
   "cell_type": "markdown",
   "id": "c8c5fdd9",
   "metadata": {},
   "source": [
    "- `test` takes a folder (which is a git repo), respectively the prefix of the clean build nad incremental build and the path to the produced binary file. Then it will the produced binary for every branches."
   ]
  },
  {
   "cell_type": "code",
   "execution_count": 49,
   "id": "721cc299",
   "metadata": {},
   "outputs": [],
   "source": [
    "def test(folder, clean_prefix, incre_prefix, btc):\n",
    "    out_csv = \"data/{}\".format(folder)\n",
    "    if out_csv[-1] == \"/\":\n",
    "        out_csv = out_csv[:-1]\n",
    "    out_csv += \".csv\"\n",
    "    with open(out_csv, 'w') as out:\n",
    "        out.write(\"config1,config2,val\\n\")\n",
    "    for i in range(1, 21):\n",
    "        clean = \"{}-{:05d}\".format(clean_prefix, i)\n",
    "        incre = \"\"\n",
    "        for j in range(1, 21):\n",
    "            if j == i:\n",
    "                continue\n",
    "            else:\n",
    "                incre = \"{}-{:05d}-{:05d}\".format(incre_prefix, j, i)\n",
    "            bcmp(folder, clean, incre, btc, \"../{}\".format(out_csv))"
   ]
  },
  {
   "cell_type": "markdown",
   "id": "b8fead3b",
   "metadata": {},
   "source": [
    "- To run the correctness test, you need to build all configurations first then get the data locally. To run it on a system, x264 for instance, you can run the following line:\n",
    "```\n",
    "test(\"x264-sample03I\", \"x264\", \"ix264\", \"x264\")\n",
    "```\n",
    "\n",
    "- The cell below shows how to call test on every tested projects"
   ]
  },
  {
   "cell_type": "code",
   "execution_count": null,
   "id": "5482d2a3",
   "metadata": {},
   "outputs": [],
   "source": [
    "test(\"x264-sample03I\", \"x264\", \"ix264\", \"x264\")\n",
    "test(\"x264-sample04I\", \"x264\", \"ix264\", \"x264\")\n",
    "test(\"sqlite-sample03I\", \"sqlite\", \"isqlite\", \"sqlite3\")\n",
    "test(\"sqlite-sample04I\", \"sqlite\", \"isqlite\", \"sqlite3\")\n",
    "test(\"curl_sample03I\", \"curl\", \"icurl\", \"src/curl\")\n",
    "test(\"curl_sample04I\", \"curl\", \"icurl\", \"src/curl\")\n",
    "test(\"xterm-sample03I\", \"xterm\", \"ixterm\", \"xterm\")\n",
    "test(\"xterm-sample04I\", \"xterm\", \"ixterm\", \"xterm\")"
   ]
  }
 ],
 "metadata": {
  "kernelspec": {
   "display_name": "Python 3 (ipykernel)",
   "language": "python",
   "name": "python3"
  },
  "language_info": {
   "codemirror_mode": {
    "name": "ipython",
    "version": 3
   },
   "file_extension": ".py",
   "mimetype": "text/x-python",
   "name": "python",
   "nbconvert_exporter": "python",
   "pygments_lexer": "ipython3",
   "version": "3.9.9"
  }
 },
 "nbformat": 4,
 "nbformat_minor": 5
}
