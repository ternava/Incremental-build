{
 "cells": [
  {
   "cell_type": "code",
   "execution_count": null,
   "source": [
    "import pandas as pd\n",
    "import numpy as np\n",
    "import matplotlib.pyplot as plt\n",
    "\n",
    "#df = pd.read_csv('/home/xternava/Documents/GitHub/Incremental-build/data/buildtime_s1.csv')\n",
    "df = pd.read_csv('/src/data/buildtime_dc2.csv')\n",
    "\n",
    "rez = df.sort_values(by=['BinarySize', 'bt_real'], ascending=False)\n",
    "\n",
    "print(rez)"
   ],
   "outputs": [],
   "metadata": {}
  }
 ],
 "metadata": {
  "orig_nbformat": 4,
  "language_info": {
   "name": "python"
  }
 },
 "nbformat": 4,
 "nbformat_minor": 2
}